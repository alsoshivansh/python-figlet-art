{
 "cells": [
  {
   "cell_type": "code",
   "execution_count": 2,
   "id": "9dfe8b8d",
   "metadata": {},
   "outputs": [
    {
     "name": "stdout",
     "output_type": "stream",
     "text": [
      "Enter the text you want to convert to Figlet art: shivansh\n",
      "     _     _                      _     \n",
      " ___| |__ (_)_   ____ _ _ __  ___| |__  \n",
      "/ __| '_ \\| \\ \\ / / _` | '_ \\/ __| '_ \\ \n",
      "\\__ \\ | | | |\\ V / (_| | | | \\__ \\ | | |\n",
      "|___/_| |_|_| \\_/ \\__,_|_| |_|___/_| |_|\n",
      "                                        \n",
      "\n"
     ]
    }
   ],
   "source": [
    "import pyfiglet\n",
    "\n",
    "def generate_figlet_text(text, font=\"standard\"):\n",
    "    try:\n",
    "        ascii_art = pyfiglet.figlet_format(text, font=font)\n",
    "        return ascii_art\n",
    "    except pyfiglet.FigletError as e:\n",
    "        return str(e)\n",
    "\n",
    "if __name__ == \"__main__\":\n",
    "    input_text = input(\"Enter the text you want to convert to Figlet art: \")\n",
    "    figlet_text = generate_figlet_text(input_text)\n",
    "    print(figlet_text)\n"
   ]
  },
  {
   "cell_type": "code",
   "execution_count": null,
   "id": "b17ad9d9",
   "metadata": {},
   "outputs": [],
   "source": []
  }
 ],
 "metadata": {
  "kernelspec": {
   "display_name": "Python 3 (ipykernel)",
   "language": "python",
   "name": "python3"
  },
  "language_info": {
   "codemirror_mode": {
    "name": "ipython",
    "version": 3
   },
   "file_extension": ".py",
   "mimetype": "text/x-python",
   "name": "python",
   "nbconvert_exporter": "python",
   "pygments_lexer": "ipython3",
   "version": "3.11.4"
  }
 },
 "nbformat": 4,
 "nbformat_minor": 5
}
